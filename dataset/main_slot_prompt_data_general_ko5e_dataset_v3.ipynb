{
 "cells": [
  {
   "cell_type": "markdown",
   "metadata": {},
   "source": [
    "## 규칙\n",
    "- 각 이름은 띄어쓰기 없이 작성하기. 예를 들어, \"영업 시간\"이 아니라 \"영업시간\"으로"
   ]
  },
  {
   "cell_type": "code",
   "execution_count": 1,
   "metadata": {},
   "outputs": [],
   "source": [
    "from tqdm import tqdm\n",
    "from langchain_community.vectorstores import FAISS\n",
    "import pickle\n",
    "import pandas as pd\n",
    "import numpy as np\n",
    "from langchain.schema import Document\n",
    "from langchain_community.document_loaders.csv_loader import CSVLoader\n",
    "from langchain_community.document_loaders import UnstructuredExcelLoader\n",
    "from langchain_community.document_loaders import DataFrameLoader\n",
    "from langchain.retrievers import BM25Retriever, EnsembleRetriever\n",
    "from langchain_community.embeddings import HuggingFaceBgeEmbeddings\n",
    "from langchain_huggingface import HuggingFaceEmbeddings"
   ]
  },
  {
   "cell_type": "code",
   "execution_count": 144,
   "metadata": {},
   "outputs": [
    {
     "name": "stdout",
     "output_type": "stream",
     "text": [
      "/home/user09/beaver/data/shared_files/dataset/dataset_v3_general.xlsx\n",
      "/home/user09/beaver/data/shared_files/dataset/dataset_v3_general_104933_preprocessed.xlsx\n"
     ]
    }
   ],
   "source": [
    "class CFG:\n",
    "    # store=\"프랭크버거\"\n",
    "    output_path = \"/home/user09/beaver/data/db\"\n",
    "    data_path = \"\"\n",
    "    save_path = \"\"\n",
    "    embedding_model= \"nlpai-lab/KoE5\" # \"BAAI/bge-m3\"\n",
    "    retriever_k=5\n",
    "    retriever_bert_weight=0.7\n",
    "    version='4_general'\n",
    "    # info_type='STORE_INFO'   # STORE_INFO, TIME_INFO, MENU_INFO\n",
    "    store_num = 104933  # 102496, 102506, 103807, 104570, 104933\n",
    "    fill_nan = \"정보없음\"\n",
    "    basic_info = [\"주차장\", \"씨씨티비\", \"영업시간\", \"예약가능여부\", \"전화번호\"]\n",
    "    seed=42\n",
    "\n",
    "\n",
    "CFG.data_path = f\"/home/user09/beaver/data/shared_files/dataset/dataset_v{CFG.version}.xlsx\"\n",
    "print(CFG.data_path)\n",
    "CFG.save_path = f\"/home/user09/beaver/data/shared_files/dataset/dataset_v{CFG.version}_{CFG.store_num}_preprocessed.xlsx\"\n",
    "print(CFG.save_path)"
   ]
  },
  {
   "cell_type": "markdown",
   "metadata": {},
   "source": [
    "### STORE_INFO"
   ]
  },
  {
   "cell_type": "code",
   "execution_count": 145,
   "metadata": {},
   "outputs": [
    {
     "name": "stdout",
     "output_type": "stream",
     "text": [
      "홍콩반점0410 선릉역점\n",
      "                             ADDR   TEL            PAYMNT_MN_CD\n",
      "4  서울 강남구 선릉로76길 22 ,2층(대치동,우리빌딩)  정보없음  현금, 신용카드, 기타결제, 모바일상품권\n",
      "Index(['ADDR', 'TEL', 'PAYMNT_MN_CD'], dtype='object')\n"
     ]
    }
   ],
   "source": [
    "################ 전처리 ################\n",
    "from langchain.schema import Document\n",
    "\n",
    "# columns_to_use = ['STORE_NO', 'STORE_NM', 'ADDR', 'DETAIL_ADDR', 'TEL', 'GUID_CONTS', 'PAYMNT_MN_CD']\n",
    "columns_to_use = ['STORE_NO', 'STORE_NM', 'ADDR', 'DETAIL_ADDR', 'TEL', 'PAYMNT_MN_CD']  # 'GUID_CONTS'\n",
    "df_store = pd.read_excel(CFG.data_path, sheet_name='STORE_INFO', usecols=columns_to_use)\n",
    "\n",
    "df_store = df_store[df_store['STORE_NO']==CFG.store_num]  # 해당 매장 정보만 가져옴\n",
    "store = df_store['STORE_NM'].unique()[0]\n",
    "print(store)\n",
    "df_store.drop(columns=['STORE_NO', 'STORE_NM'], inplace=True)\n",
    "\n",
    "# for col in df_store.columns:   # 매장 정보는 매장 당 한 개의 row만 존재하므로 제공해주지 않는 매장 정보 컬럼은 삭제\n",
    "#     if df_store[col].isnull().values.any():   \n",
    "#         df_store.drop(columns=[col], inplace=True)\n",
    "\n",
    "# df_2.drop(columns=['STORE_NO'], inplace=True)\n",
    "# print(df_2)\n",
    "\n",
    "# 1. 주소와 상세 주소 합치기\n",
    "df_store['ADDR'] = df_store['ADDR'] + ' ' + df_store['DETAIL_ADDR']\n",
    "df_store['ADDR'] = df_store['ADDR'].fillna(CFG.fill_nan)   # !!!!!!!!!!!!!!!\n",
    "df_store.drop(columns=['DETAIL_ADDR'], inplace=True)\n",
    "\n",
    "df_store.fillna(CFG.fill_nan, inplace=True)  # !!!!!!!!!!!!!!!\n",
    "\n",
    "# 2. 결제수단 매핑\n",
    "def map_payment_methods(payment_codes):\n",
    "    payment_mapping = {\n",
    "    'CA': '현금',\n",
    "    'CD': '신용카드',\n",
    "    'PO': '포인트',\n",
    "    'PC': '간편결제',\n",
    "    'GV': '모바일상품권',\n",
    "    'ET': '기타결제'\n",
    "    }\n",
    "    codes = payment_codes.split(', ')\n",
    "    mapped_names = [payment_mapping[code] for code in codes if code in payment_mapping]\n",
    "    return ', '.join(mapped_names)\n",
    "\n",
    "df_store['PAYMNT_MN_CD'] = df_store['PAYMNT_MN_CD'].apply(map_payment_methods)\n",
    "df_store_col = df_store.columns\n",
    "\n",
    "# 결과 출력\n",
    "print(df_store)\n",
    "print(df_store_col)"
   ]
  },
  {
   "cell_type": "code",
   "execution_count": 146,
   "metadata": {},
   "outputs": [
    {
     "name": "stdout",
     "output_type": "stream",
     "text": [
      "                               위치  전화번호                    결제수단\n",
      "4  서울 강남구 선릉로76길 22 ,2층(대치동,우리빌딩)  정보없음  현금, 신용카드, 기타결제, 모바일상품권\n"
     ]
    }
   ],
   "source": [
    "############## 컬럼명 변경 ##############\n",
    "store_column_mapping = {\n",
    "    'STORE_NO': '상점번호',\n",
    "    'STORE_NM': '상점명',\n",
    "    'ADDR': '위치',\n",
    "    'DETAIL_ADDR': '매장주소',\n",
    "    'TEL': '전화번호',\n",
    "    'X': '좌표 X',\n",
    "    'Y': '좌표 Y',\n",
    "    'GUID_TTL': '안내제목',  # !!!!!!!!!!!!!!!!!\n",
    "    'GUID_CONTS': '안내내용',\n",
    "    'PAYMNT_MN_CD': '결제수단',\n",
    "}\n",
    "\n",
    "for col in df_store_col:\n",
    "    df_store = df_store.rename(columns={col: store_column_mapping[col]})\n",
    "    \n",
    "print(df_store)"
   ]
  },
  {
   "cell_type": "code",
   "execution_count": 147,
   "metadata": {},
   "outputs": [
    {
     "name": "stdout",
     "output_type": "stream",
     "text": [
      "                             contents\n",
      "0  위치: 서울 강남구 선릉로76길 22 ,2층(대치동,우리빌딩)\n",
      "1                          전화번호: 정보없음\n",
      "2        결제수단: 현금, 신용카드, 기타결제, 모바일상품권\n"
     ]
    }
   ],
   "source": [
    "############### 한 컬럼으로 통합 ###############\n",
    "def create_contents_rowwise(df):\n",
    "    contents_data = []\n",
    "    for _, row in df.iterrows():\n",
    "        for col in df.columns:\n",
    "            contents_data.append(f\"{col}: {row[col]}\")\n",
    "    new_df = pd.DataFrame({'contents': contents_data})\n",
    "    return new_df\n",
    "\n",
    "# 함수 호출\n",
    "result_df_store = create_contents_rowwise(df_store)\n",
    "print(result_df_store)"
   ]
  },
  {
   "cell_type": "markdown",
   "metadata": {},
   "source": [
    "### MENU_INFO"
   ]
  },
  {
   "cell_type": "code",
   "execution_count": 148,
   "metadata": {},
   "outputs": [
    {
     "name": "stdout",
     "output_type": "stream",
     "text": [
      "      PROD_NM  PRICE\n",
      "302  연태고량주(중)  24000\n",
      "303  연태고량주(소)  14000\n",
      "304       칭따오   7500\n",
      "Index(['PROD_NM', 'PRICE'], dtype='object')\n"
     ]
    }
   ],
   "source": [
    "################ 전처리 ################\n",
    "columns_to_use = ['STORE_NO', 'PROD_NM', 'PRICE']\n",
    "df_menu = pd.read_excel(f'/home/user09/beaver/data/shared_files/dataset/dataset_v{CFG.version}.xlsx', sheet_name='MENU_INFO', usecols=columns_to_use)\n",
    "df_menu = df_menu[df_menu['STORE_NO']==CFG.store_num]\n",
    "df_menu.drop(columns=['STORE_NO'], inplace=True)\n",
    "\n",
    "df_menu_col = df_menu.columns\n",
    "\n",
    "print(df_menu[:3])\n",
    "print(df_menu_col)"
   ]
  },
  {
   "cell_type": "code",
   "execution_count": 149,
   "metadata": {},
   "outputs": [
    {
     "name": "stdout",
     "output_type": "stream",
     "text": [
      "          메뉴명      가격\n",
      "302  연태고량주(중)  24000원\n",
      "303  연태고량주(소)  14000원\n",
      "304       칭따오   7500원\n"
     ]
    }
   ],
   "source": [
    "############## 컬럼명 변경 ##############\n",
    "menu_column_mapping = {\n",
    "    # 'PROD_NO': '상품 번호',\n",
    "    'PROD_NM': '메뉴명',\n",
    "    'PRICE': '가격'\n",
    "}\n",
    "\n",
    "for col in df_menu_col:\n",
    "    df_menu = df_menu.rename(columns={col: menu_column_mapping[col]})\n",
    "\n",
    "df_menu['가격'] = df_menu['가격'].astype(str) + '원'\n",
    "    \n",
    "print(df_menu[:3])"
   ]
  },
  {
   "cell_type": "code",
   "execution_count": 150,
   "metadata": {},
   "outputs": [
    {
     "name": "stdout",
     "output_type": "stream",
     "text": [
      "                    contents\n",
      "0  메뉴명: 연태고량주(중), 가격: 24000원\n",
      "1  메뉴명: 연태고량주(소), 가격: 14000원\n",
      "2        메뉴명: 칭따오, 가격: 7500원\n"
     ]
    }
   ],
   "source": [
    "############### 한 컬럼으로 통합 ###############\n",
    "def create_contents_rowwise(df):\n",
    "    contents_data = []\n",
    "    for _, row in df.iterrows():\n",
    "        row_content = \", \".join([f\"{col}: {row[col]}\" for col in df.columns])  # 각 행의 컬럼명:값을 \", \"로 결합하여 하나의 문자열 생성\n",
    "        contents_data.append(row_content)\n",
    "    \n",
    "    new_df = pd.DataFrame({'contents': contents_data})  # contents 열을 포함하는 새로운 데이터프레임 생성\n",
    "    return new_df\n",
    "\n",
    "# 함수 호출\n",
    "result_df_menu = create_contents_rowwise(df_menu)\n",
    "print(result_df_menu[:3])"
   ]
  },
  {
   "cell_type": "markdown",
   "metadata": {},
   "source": [
    "### TIME_INFO"
   ]
  },
  {
   "cell_type": "code",
   "execution_count": 151,
   "metadata": {},
   "outputs": [
    {
     "name": "stdout",
     "output_type": "stream",
     "text": [
      "   WKDY SALE_BGN_TM SALE_END_TM STORE_REST_BGN_TM STORE_REST_END_TM\n",
      "16  NaN        None        None              None              None\n"
     ]
    }
   ],
   "source": [
    "### 전처리 ###\n",
    "columns_to_use = ['STORE_NO', 'WKDY', 'SALE_BGN_TM', 'SALE_END_TM', 'STORE_REST_BGN_TM', 'STORE_REST_END_TM']\n",
    "df_time = pd.read_excel(f'/home/user09/beaver/data/shared_files/dataset/dataset_v{CFG.version}.xlsx', sheet_name='TIME_INFO', usecols=columns_to_use)\n",
    "df_time = df_time[df_time['STORE_NO']==CFG.store_num]\n",
    "\n",
    "# 1. 요일 매핑\n",
    "day_mapping = {\n",
    "    2: '월요일',\n",
    "    3: '화요일',\n",
    "    4: '수요일',\n",
    "    5: '목요일',\n",
    "    6: '금요일',\n",
    "    7: '토요일',\n",
    "    1: '일요일'\n",
    "}\n",
    "df_time['WKDY'] = df_time['WKDY'].map(day_mapping)\n",
    "\n",
    "\n",
    "# 2. 시간 포맷 변경\n",
    "def convert_time_format(hhmmss):\n",
    "    if pd.isna(hhmmss): \n",
    "        return None\n",
    "    # if not hhmmss:\n",
    "    #     return hhmmss\n",
    "    # hhmmss가 숫자인 경우 문자열로 변환\n",
    "    hhmmss = str(hhmmss).zfill(6)  # zfill을 사용하여 6자리를 맞춤 (예: 930 -> '000930')\n",
    "    return hhmmss[:2] + ':' + hhmmss[2:4]\n",
    "\n",
    "df_time['SALE_BGN_TM'] = df_time['SALE_BGN_TM'].apply(convert_time_format)\n",
    "df_time['SALE_END_TM'] = df_time['SALE_END_TM'].apply(convert_time_format)\n",
    "df_time['STORE_REST_BGN_TM'] = df_time['STORE_REST_BGN_TM'].apply(convert_time_format)\n",
    "df_time['STORE_REST_END_TM'] = df_time['STORE_REST_END_TM'].apply(convert_time_format)\n",
    "\n",
    "df_time.drop(columns=['STORE_NO'], inplace=True)\n",
    "\n",
    "print(df_time)"
   ]
  },
  {
   "cell_type": "code",
   "execution_count": 152,
   "metadata": {},
   "outputs": [
    {
     "name": "stdout",
     "output_type": "stream",
     "text": [
      "   SALE_TM REST_TM\n",
      "16    정보없음    정보없음\n",
      "Index(['SALE_TM', 'REST_TM'], dtype='object')\n"
     ]
    }
   ],
   "source": [
    "import pandas as pd\n",
    "\n",
    "# SALE_TM 컬럼 생성\n",
    "df_time['SALE_TM'] = df_time['WKDY'] + ' ' + df_time['SALE_BGN_TM'] + '-' + df_time['SALE_END_TM']\n",
    "invalid_values = ['00:0n', '00:00', None]  # 잘못된 값들\n",
    "\n",
    "# 잘못된 값일 경우 \"브레이크 타임 없음\" 또는 \"정보 없음\"으로 처리\n",
    "for col in ['STORE_REST_BGN_TM', 'STORE_REST_END_TM']:\n",
    "    df_time[col] = df_time.apply(\n",
    "        lambda row: \"정보 없음\" if pd.isna(row['SALE_BGN_TM']) else\n",
    "                    (\"브레이크 타임 없음\" if row[col] in invalid_values else row[col]), \n",
    "        axis=1\n",
    "    )\n",
    "\n",
    "# REST_TM 컬럼 생성\n",
    "# 영업시간이 있는 경우 \"브레이크 타임 없음\", 없는 경우 \"정보 없음\"\n",
    "df_time['REST_TM'] = df_time.apply(\n",
    "    lambda row: CFG.fill_nan if pd.isna(row['SALE_TM']) \n",
    "                else (\"브레이크 타임 없음\" if row['STORE_REST_BGN_TM'] == \"브레이크 타임 없음\" \n",
    "                      else f\"{row['STORE_REST_BGN_TM']}-{row['STORE_REST_END_TM']}\"),\n",
    "    axis=1\n",
    ")\n",
    "\n",
    "# 필요 없는 컬럼 삭제\n",
    "df_time.drop(columns=['WKDY', 'SALE_BGN_TM', 'SALE_END_TM', 'STORE_REST_BGN_TM', 'STORE_REST_END_TM'], inplace=True)\n",
    "df_time_col = df_time.columns\n",
    "df_time['SALE_TM'].fillna(CFG.fill_nan, inplace=True)\n",
    "\n",
    "# 결과 출력\n",
    "print(df_time)\n",
    "print(df_time_col)\n"
   ]
  },
  {
   "cell_type": "code",
   "execution_count": 153,
   "metadata": {},
   "outputs": [
    {
     "name": "stdout",
     "output_type": "stream",
     "text": [
      "    영업시간 브레이크타임\n",
      "16  정보없음   정보없음\n"
     ]
    }
   ],
   "source": [
    "############## 컬럼명 변경 ##############\n",
    "time_column_mapping = {\n",
    "    'WKDY': '영업요일',\n",
    "    'SALE_TM': '영업시간',\n",
    "    'REST_TM': '브레이크타임',\n",
    "    'SALE_BGN_TM': '영업 시작 시간',\n",
    "    'SALE_END_TM': '영업 마감 시간',\n",
    "    'STORE_REST_BGN_TM': '브레이크 타임 시작 시간',\n",
    "    'STORE_REST_END_TM': '브레이크 타임 마감 시간',\n",
    "}\n",
    "\n",
    "for col in df_time_col:\n",
    "    df_time = df_time.rename(columns={col: time_column_mapping[col]})\n",
    "    \n",
    "print(df_time)"
   ]
  },
  {
   "cell_type": "code",
   "execution_count": 154,
   "metadata": {},
   "outputs": [
    {
     "name": "stdout",
     "output_type": "stream",
     "text": [
      "                   contents\n",
      "0  영업시간: 정보없음, 브레이크타임: 정보없음\n"
     ]
    }
   ],
   "source": [
    "############### 한 컬럼으로 통합 ###############\n",
    "def create_contents_rowwise(df):\n",
    "    contents_data = []\n",
    "    for _, row in df.iterrows():\n",
    "        row_content = \", \".join([f\"{col}: {row[col]}\" for col in df.columns])  # 각 행의 컬럼명:값을 \", \"로 결합하여 하나의 문자열 생성\n",
    "        contents_data.append(row_content)\n",
    "    \n",
    "    new_df = pd.DataFrame({'contents': contents_data})  # contents 열을 포함하는 새로운 데이터프레임 생성\n",
    "    return new_df\n",
    "\n",
    "# 함수 호출\n",
    "result_df_time = create_contents_rowwise(df_time)\n",
    "print(result_df_time)"
   ]
  },
  {
   "cell_type": "markdown",
   "metadata": {},
   "source": [
    "### 3개 통합 & 피클파일"
   ]
  },
  {
   "cell_type": "code",
   "execution_count": 155,
   "metadata": {},
   "outputs": [],
   "source": [
    "df = pd.concat([result_df_store, result_df_time, result_df_menu], ignore_index=True)"
   ]
  },
  {
   "cell_type": "markdown",
   "metadata": {},
   "source": [
    "### 기본 정보 지정"
   ]
  },
  {
   "cell_type": "code",
   "execution_count": 156,
   "metadata": {},
   "outputs": [
    {
     "name": "stdout",
     "output_type": "stream",
     "text": [
      "                               contents\n",
      "0    위치: 서울 강남구 선릉로76길 22 ,2층(대치동,우리빌딩)\n",
      "1                            전화번호: 정보없음\n",
      "2          결제수단: 현금, 신용카드, 기타결제, 모바일상품권\n",
      "3              영업시간: 정보없음, 브레이크타임: 정보없음\n",
      "4             메뉴명: 연태고량주(중), 가격: 24000원\n",
      "..                                  ...\n",
      "145         메뉴명: [15주년행사]탕수육, 가격: 9900원\n",
      "146                   메뉴명: 린, 가격: 5000원\n",
      "147                           주차장: 정보없음\n",
      "148                          씨씨티비: 정보없음\n",
      "149                        예약가능여부: 정보없음\n",
      "\n",
      "[150 rows x 1 columns]\n"
     ]
    }
   ],
   "source": [
    "# \":\"를 기준으로 분리하여 앞의 키워드를 추출한 후, 존재 여부 확인\n",
    "existing_info = [content.split(\":\")[0].strip() for content in df[\"contents\"]]\n",
    "missing_info = [info for info in CFG.basic_info if info not in existing_info]\n",
    "for info in missing_info:\n",
    "    df = pd.concat([df, pd.DataFrame({\"contents\": [f\"{info}: 정보없음\"]})], ignore_index=True)\n",
    "\n",
    "# 결과 출력\n",
    "df.to_excel(CFG.save_path, index=False)   # 전처리한 엑셀 파일 저장\n",
    "print(df)"
   ]
  },
  {
   "cell_type": "code",
   "execution_count": 157,
   "metadata": {},
   "outputs": [],
   "source": [
    "#### 엑셀파일 DB화(pickle파일로 변환) ##### Extracting information from the \"Details\" column to create documents\n",
    "docs = []\n",
    "for _, row in df.iterrows():\n",
    "    details = row['contents']\n",
    "    # metadata = {}\n",
    "    \n",
    "    # # Parse key-value pairs in the \"Details\" column\n",
    "    # for detail in details.split('\\n'):\n",
    "    #     if ':' in detail:\n",
    "    #         key, value = detail.split(':', 1)\n",
    "            # metadata[key.strip()] = value.strip()\n",
    "    \n",
    "    docs.append(Document(page_content=details))#, metadata=metadata))\n",
    "\n",
    "# Embeddings and vector store setup\n",
    "encode_kwargs = {'normalize_embeddings': True}\n",
    "model_kwargs = {'device': 'cpu'}\n",
    "\n",
    "hf = HuggingFaceEmbeddings(\n",
    "    model_name=CFG.embedding_model,\n",
    "    model_kwargs=model_kwargs,\n",
    "    encode_kwargs=encode_kwargs,\n",
    ")\n",
    "\n",
    "db = FAISS.from_documents(docs, hf)\n",
    "\n",
    "# Save the FAISS vector store and documents as pickle\n",
    "db.save_local(f\"{CFG.output_path}/{CFG.store_num}_faiss{CFG.version}\")\n",
    "\n",
    "with open(f\"{CFG.output_path}/{CFG.store_num}_docs{CFG.version}.pkl\", \"wb\") as f:\n",
    "    pickle.dump(docs, f)\n",
    "\n",
    "# Load the FAISS vector store\n",
    "db = FAISS.load_local(f\"/home/user09/beaver/data/db/{CFG.store_num}_faiss{CFG.version}\", hf, allow_dangerous_deserialization=True)\n",
    "\n",
    "# Create retrievers\n",
    "retriever = db.as_retriever(search_type=\"similarity\", search_kwargs={\"k\": CFG.retriever_k})\n",
    "bm25_retriever = BM25Retriever.from_documents(docs)\n",
    "bm25_retriever.k = CFG.retriever_k\n",
    "\n",
    "ensemble_retriever = EnsembleRetriever(\n",
    "    retrievers=[retriever, bm25_retriever],\n",
    "    weights=[CFG.retriever_bert_weight, 1 - CFG.retriever_bert_weight]\n",
    ")\n"
   ]
  },
  {
   "cell_type": "code",
   "execution_count": null,
   "metadata": {},
   "outputs": [],
   "source": []
  }
 ],
 "metadata": {
  "kernelspec": {
   "display_name": "beaver3.10",
   "language": "python",
   "name": "beaver"
  },
  "language_info": {
   "codemirror_mode": {
    "name": "ipython",
    "version": 3
   },
   "file_extension": ".py",
   "mimetype": "text/x-python",
   "name": "python",
   "nbconvert_exporter": "python",
   "pygments_lexer": "ipython3",
   "version": "3.10.14"
  }
 },
 "nbformat": 4,
 "nbformat_minor": 2
}
