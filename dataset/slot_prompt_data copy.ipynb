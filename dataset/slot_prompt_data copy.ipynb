{
 "cells": [
  {
   "cell_type": "code",
   "execution_count": 1,
   "metadata": {},
   "outputs": [],
   "source": [
    "from tqdm import tqdm\n",
    "\n",
    "import pandas as pd\n",
    "import numpy as np\n",
    "\n",
    "from langchain_community.document_loaders.csv_loader import CSVLoader\n",
    "from langchain_community.document_loaders import UnstructuredExcelLoader\n",
    "from langchain_community.document_loaders import DataFrameLoader\n",
    "from langchain.retrievers import BM25Retriever, EnsembleRetriever"
   ]
  },
  {
   "cell_type": "code",
   "execution_count": 2,
   "metadata": {},
   "outputs": [],
   "source": [
    "class CFG:\n",
    "    # store=\"프랭크버거\"\n",
    "    output_path = \"/home/user09/beaver/data/db\"\n",
    "    save_path = \"\"\n",
    "    embedding_model=\"BAAI/bge-m3\"\n",
    "    retriever_k=5\n",
    "    retriever_bert_weight=0.7\n",
    "    version='5'\n",
    "    seed=42\n",
    "    \n",
    "# CFG.save_path = CFG.output_path + CFG.store + \"_temp.csv\""
   ]
  },
  {
   "cell_type": "code",
   "execution_count": 3,
   "metadata": {},
   "outputs": [
    {
     "name": "stderr",
     "output_type": "stream",
     "text": [
      "/tmp/ipykernel_1967287/1838598567.py:32: LangChainDeprecationWarning: The class `HuggingFaceEmbeddings` was deprecated in LangChain 0.2.2 and will be removed in 1.0. An updated version of the class exists in the :class:`~langchain-huggingface package and should be used instead. To use it run `pip install -U :class:`~langchain-huggingface` and import as `from :class:`~langchain_huggingface import HuggingFaceEmbeddings``.\n",
      "  hf = HuggingFaceEmbeddings(\n",
      "/home/user09/venv/beaver/lib/python3.10/site-packages/sentence_transformers/cross_encoder/CrossEncoder.py:13: TqdmExperimentalWarning: Using `tqdm.autonotebook.tqdm` in notebook mode. Use `tqdm.tqdm` instead to force console mode (e.g. in jupyter console)\n",
      "  from tqdm.autonotebook import tqdm, trange\n"
     ]
    }
   ],
   "source": [
    "#### 엑셀파일 DB화(pickle파일로 변환) ####\n",
    "store = \"홍콩반점\"\n",
    "\n",
    "import pandas as pd\n",
    "from langchain.schema import Document\n",
    "from langchain.vectorstores import FAISS\n",
    "from langchain.embeddings import HuggingFaceEmbeddings\n",
    "from langchain.retrievers import BM25Retriever\n",
    "from langchain.retrievers import EnsembleRetriever\n",
    "\n",
    "# 엑셀 파일 로드\n",
    "df_2 = pd.read_excel(f'/home/user09/beaver/data/dataset_v{CFG.version}.xlsx')\n",
    "\n",
    "# Document 생성: '상품명'만을 page_content로 사용\n",
    "docs = [\n",
    "    Document(\n",
    "        page_content=row['상품명'],\n",
    "        metadata={\n",
    "            '종류': row['종류'],\n",
    "            '옵션': row['옵션'],\n",
    "            '가격': row['가격'],\n",
    "            '특징': row['특징']\n",
    "        }\n",
    "    )\n",
    "    for _, row in df_2.iterrows()\n",
    "]\n",
    "\n",
    "# Embeddings 설정\n",
    "encode_kwargs={'normalize_embeddings':True}\n",
    "model_kwargs={'device':'cpu'}\n",
    "\n",
    "hf = HuggingFaceEmbeddings(\n",
    "    model_name=CFG.embedding_model,\n",
    "    model_kwargs=model_kwargs,\n",
    "    encode_kwargs=encode_kwargs,\n",
    ")\n",
    "\n",
    "# FAISS 벡터스토어 생성\n",
    "db = FAISS.from_documents(\n",
    "    documents=docs,\n",
    "    embedding=hf\n",
    ")\n",
    "\n",
    "# 벡터스토어 저장\n",
    "db.save_local(f\"{CFG.output_path}/{store}_faiss{CFG.version}\")\n",
    "\n",
    "# Document 리스트 저장\n",
    "import pickle \n",
    "with open(f\"{CFG.output_path}/{store}_docs{CFG.version}.pkl\", \"wb\") as f:\n",
    "    pickle.dump(docs, f)\n",
    "\n",
    "# 벡터스토어 로드\n",
    "db = FAISS.load_local(\n",
    "    folder_path=f\"/home/user09/beaver/data/db/{store}_faiss5\",\n",
    "    embeddings=hf,\n",
    "    allow_dangerous_deserialization=True\n",
    ")\n",
    "\n",
    "# Retriever 설정\n",
    "retriever = db.as_retriever(\n",
    "    search_type=\"similarity\",\n",
    "    search_kwargs={\"k\": CFG.retriever_k}\n",
    ")\n",
    "\n",
    "# BM25 Retriever 생성\n",
    "bm25_retriever = BM25Retriever.from_documents(docs)\n",
    "bm25_retriever.k = CFG.retriever_k\n",
    "\n",
    "# Ensemble Retriever 설정\n",
    "ensemble_retriever = EnsembleRetriever(\n",
    "    retrievers=[retriever, bm25_retriever],\n",
    "    weights=[CFG.retriever_bert_weight, 1 - CFG.retriever_bert_weight],\n",
    ")\n"
   ]
  },
  {
   "cell_type": "code",
   "execution_count": null,
   "metadata": {},
   "outputs": [],
   "source": []
  }
 ],
 "metadata": {
  "kernelspec": {
   "display_name": "beaver",
   "language": "python",
   "name": "python3"
  },
  "language_info": {
   "codemirror_mode": {
    "name": "ipython",
    "version": 3
   },
   "file_extension": ".py",
   "mimetype": "text/x-python",
   "name": "python",
   "nbconvert_exporter": "python",
   "pygments_lexer": "ipython3",
   "version": "3.10.14"
  }
 },
 "nbformat": 4,
 "nbformat_minor": 2
}
